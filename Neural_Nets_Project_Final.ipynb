{
 "cells": [
  {
   "cell_type": "markdown",
   "metadata": {},
   "source": [
    "# Gesture Recognition\n",
    "In this group project, you are going to build a 3D Conv model that will be able to predict the 5 gestures correctly. Please import the following libraries to get started."
   ]
  },
  {
   "cell_type": "code",
   "execution_count": 1,
   "metadata": {},
   "outputs": [],
   "source": [
    "import numpy as np\n",
    "import os\n",
    "from scipy.misc import imread, imresize\n",
    "import datetime\n",
    "import os\n",
    "import imageio as io"
   ]
  },
  {
   "cell_type": "markdown",
   "metadata": {},
   "source": [
    "We set the random seed so that the results don't vary drastically."
   ]
  },
  {
   "cell_type": "code",
   "execution_count": 2,
   "metadata": {},
   "outputs": [
    {
     "name": "stderr",
     "output_type": "stream",
     "text": [
      "Using TensorFlow backend.\n"
     ]
    }
   ],
   "source": [
    "np.random.seed(30)\n",
    "import random as rn\n",
    "rn.seed(30)\n",
    "from keras import backend as K\n",
    "import tensorflow as tf\n",
    "tf.set_random_seed(30)\n",
    "from skimage.transform import resize"
   ]
  },
  {
   "cell_type": "markdown",
   "metadata": {},
   "source": [
    "In this block, you read the folder names for training and validation. You also set the `batch_size` here. Note that you set the batch size in such a way that you are able to use the GPU in full capacity. You keep increasing the batch size until the machine throws an error."
   ]
  },
  {
   "cell_type": "code",
   "execution_count": 3,
   "metadata": {},
   "outputs": [],
   "source": [
    "train_doc = np.random.permutation(open('./Project_data/train.csv').readlines())\n",
    "val_doc = np.random.permutation(open('./Project_data/val.csv').readlines())\n",
    "batch_size = 25 #experiment with the batch size"
   ]
  },
  {
   "cell_type": "markdown",
   "metadata": {},
   "source": [
    "## Generator\n",
    "This is one of the most important part of the code. The overall structure of the generator has been given. In the generator, you are going to preprocess the images as you have images of 2 different dimensions as well as create a batch of video frames. You have to experiment with `img_idx`, `y`,`z` and normalization such that you get high accuracy."
   ]
  },
  {
   "cell_type": "code",
   "execution_count": 4,
   "metadata": {},
   "outputs": [],
   "source": [
    "no_rows = 100   # x to be resized input\n",
    "no_cols = 100   # x to be resized input\n",
    "no_frames = 30  # lenght of the video frames\n",
    "no_channel = 3 # number rof channels in RGB images"
   ]
  },
  {
   "cell_type": "code",
   "execution_count": 5,
   "metadata": {},
   "outputs": [],
   "source": [
    "def generator(source_path, folder_list, batch_size):\n",
    "    print( 'Source path = ', source_path, '; batch size =', batch_size)\n",
    "    img_idx = [x for x in range(0,no_frames)]\n",
    "    while True:\n",
    "        t = np.random.permutation(folder_list)\n",
    "        num_batches = len(folder_list)//batch_size# calculate the number of batches\n",
    "        for batch in range(num_batches): # we iterate over the number of batches\n",
    "            batch_data = np.zeros((batch_size,len(img_idx),no_rows,no_cols,3)) # x is the number of images you use for each video, (y,z) is the final size of the input images and 3 is the number of channels RGB\n",
    "            batch_labels = np.zeros((batch_size,5)) # batch_labels is the one hot representation of the output\n",
    "            for folder in range(batch_size): # iterate over the batch_size\n",
    "                imgs = os.listdir(source_path+'/'+ t[folder + (batch*batch_size)].split(';')[0]) # read all the images in the folder\n",
    "                for idx,item in enumerate(img_idx): #  Iterate iver the frames/images of a folder to read them in\n",
    "                    image = io.imread(source_path+'/'+ t[folder + (batch*batch_size)].strip().split(';')[0]+'/'+imgs[item]).astype(np.float32)\n",
    "                    \n",
    "                    #crop the images and resize them. Note that the images are of 2 different shape \n",
    "                    #and the conv3D will throw error if the inputs in a batch have different shapes\n",
    "                    image_norm=image/255 #normalization\n",
    "                    resize_image=resize(image_norm,(no_rows,no_cols)) #resizing\n",
    "                    batch_data[folder,idx,:,:,0] = resize_image[:,:,0]#normalise and feed in the image\n",
    "                    batch_data[folder,idx,:,:,1] = resize_image[:,:,1]#normalise and feed in the image\n",
    "                    batch_data[folder,idx,:,:,2] = resize_image[:,:,2]#normalise and feed in the image\n",
    "                    \n",
    "                batch_labels[folder, int(t[folder + (batch*batch_size)].strip().split(';')[2])] = 1\n",
    "            yield batch_data, batch_labels #you yield the batch_data and the batch_labels, remember what does yield do\n",
    "            \n",
    "        # write the code for the remaining data points which are left after full batches\n",
    "        if(len(folder_list)%batch_size)!=0:\n",
    "            batch_size1 = len(folder_list)-(batch_size*num_batches)\n",
    "            batch=num_batches\n",
    "            batch_data = np.zeros((batch_size1,len(img_idx),no_rows,no_cols,3)) # x is the number of images you use for each video, (y,z) is the final size of the input images and 3 is the number of channels RGB\n",
    "            batch_labels = np.zeros((batch_size1,5)) # batch_labels is the one hot representation of the output\n",
    "            for folder in range(batch_size1): # iterate over the batch_size\n",
    "                imgs = os.listdir(source_path+'/'+ t[folder + (batch*batch_size1)].split(';')[0]) # read all the images in the folder\n",
    "                for idx,item in enumerate(img_idx): #  Iterate iver the frames/images of a folder to read them in\n",
    "                    image = io.imread(source_path+'/'+ t[folder + (batch*batch_size1)].strip().split(';')[0]+'/'+imgs[item]).astype(np.float32)\n",
    "                    image_norm=image/255\n",
    "                    resize_image=resize(image_norm,(no_rows,no_cols))\n",
    "                    batch_data[folder,idx,:,:,0] = resize_image[:,:,0]#normalise and feed in the image\n",
    "                    batch_data[folder,idx,:,:,1] = resize_image[:,:,1]#normalise and feed in the image\n",
    "                    batch_data[folder,idx,:,:,2] = resize_image[:,:,2]#normalise and feed in the image\n",
    "                    \n",
    "                batch_labels[folder, int(t[folder + (batch*batch_size1)].strip().split(';')[2])] = 1\n",
    "            yield batch_data, batch_labels\n",
    "            \n",
    "          \n",
    "            "
   ]
  },
  {
   "cell_type": "markdown",
   "metadata": {},
   "source": [
    "Note here that a video is represented above in the generator as (number of images, height, width, number of channels). Take this into consideration while creating the model architecture."
   ]
  },
  {
   "cell_type": "code",
   "execution_count": 6,
   "metadata": {},
   "outputs": [
    {
     "name": "stdout",
     "output_type": "stream",
     "text": [
      "# training sequences = 663\n",
      "# validation sequences = 100\n",
      "# epochs = 20\n"
     ]
    }
   ],
   "source": [
    "curr_dt_time = datetime.datetime.now()\n",
    "train_path = './Project_data/train'\n",
    "val_path = './Project_data/val'\n",
    "num_train_sequences = len(train_doc)\n",
    "print('# training sequences =', num_train_sequences)\n",
    "num_val_sequences = len(val_doc)\n",
    "print('# validation sequences =', num_val_sequences)\n",
    "num_epochs = 20# choose the number of epochs\n",
    "print ('# epochs =', num_epochs)"
   ]
  },
  {
   "cell_type": "markdown",
   "metadata": {},
   "source": [
    "## Model\n",
    "Here you make the model using different functionalities that Keras provides. Remember to use `Conv3D` and `MaxPooling3D` and not `Conv2D` and `Maxpooling2D` for a 3D convolution model. You would want to use `TimeDistributed` while building a Conv2D + RNN model. Also remember that the last layer is the softmax. Design the network in such a way that the model is able to give good accuracy on the least number of parameters so that it can fit in the memory of the webcam."
   ]
  },
  {
   "cell_type": "code",
   "execution_count": 7,
   "metadata": {},
   "outputs": [],
   "source": [
    "from keras.models import Sequential, Model\n",
    "from keras.layers import Dense, GRU, Flatten, TimeDistributed, Flatten, BatchNormalization, Activation, Dropout\n",
    "from keras.layers.convolutional import Conv3D, MaxPooling3D,Conv2D,MaxPooling2D\n",
    "from keras.callbacks import ModelCheckpoint, ReduceLROnPlateau\n",
    "from keras import optimizers\n",
    "from keras.losses import categorical_crossentropy\n",
    "from keras.optimizers import Adam\n",
    "from keras.applications import ResNet50\n",
    "from keras.applications.resnet50 import preprocess_input\n",
    "from keras.layers.recurrent import LSTM, GRU\n",
    "\n",
    "\n",
    "#write your model here\n",
    "\n",
    "# Input\n",
    "input_shape=(no_frames,no_rows,no_cols,no_channel)\n",
    "\n",
    "model = Sequential()\n",
    "\n",
    "model.add(Conv3D(8,kernel_size=(3,3,3),input_shape=input_shape,padding='same'))\n",
    "model.add(BatchNormalization())\n",
    "model.add(Activation('relu'))\n",
    "model.add(MaxPooling3D(pool_size=(2,2,2)))\n",
    "\n",
    "model.add(Conv3D(16,kernel_size=(3,3,3),padding='same'))\n",
    "model.add(BatchNormalization())\n",
    "model.add(Activation('relu'))\n",
    "model.add(MaxPooling3D(pool_size=(2,2,2)))\n",
    "\n",
    "model.add(Conv3D(32,kernel_size=(3,3,3),padding='same'))\n",
    "model.add(BatchNormalization())\n",
    "model.add(Activation('relu'))\n",
    "model.add(MaxPooling3D(pool_size=(2,2,2)))\n",
    "\n",
    "model.add(Conv3D(64,kernel_size=(3,3,3),padding='same'))\n",
    "model.add(BatchNormalization())\n",
    "model.add(Activation('relu'))\n",
    "#model.add(Dropout(0.25))\n",
    "model.add(MaxPooling3D(pool_size=(2,2,2)))\n",
    "\n",
    "model.add(Flatten())\n",
    "\n",
    "model.add(Dense(256, activation='relu'))\n",
    "model.add(Dropout(0.5))\n",
    "\n",
    "model.add(Dense(128, activation='relu'))\n",
    "model.add(Dropout(0.5))\n",
    "\n",
    "#final output layer\n",
    "model.add(Dense(5, activation='softmax'))"
   ]
  },
  {
   "cell_type": "markdown",
   "metadata": {},
   "source": [
    "Now that you have written the model, the next step is to `compile` the model. When you print the `summary` of the model, you'll see the total number of parameters you have to train."
   ]
  },
  {
   "cell_type": "code",
   "execution_count": 8,
   "metadata": {
    "scrolled": true
   },
   "outputs": [
    {
     "name": "stdout",
     "output_type": "stream",
     "text": [
      "_________________________________________________________________\n",
      "Layer (type)                 Output Shape              Param #   \n",
      "=================================================================\n",
      "conv3d_1 (Conv3D)            (None, 30, 100, 100, 8)   656       \n",
      "_________________________________________________________________\n",
      "batch_normalization_1 (Batch (None, 30, 100, 100, 8)   32        \n",
      "_________________________________________________________________\n",
      "activation_1 (Activation)    (None, 30, 100, 100, 8)   0         \n",
      "_________________________________________________________________\n",
      "max_pooling3d_1 (MaxPooling3 (None, 15, 50, 50, 8)     0         \n",
      "_________________________________________________________________\n",
      "conv3d_2 (Conv3D)            (None, 15, 50, 50, 16)    3472      \n",
      "_________________________________________________________________\n",
      "batch_normalization_2 (Batch (None, 15, 50, 50, 16)    64        \n",
      "_________________________________________________________________\n",
      "activation_2 (Activation)    (None, 15, 50, 50, 16)    0         \n",
      "_________________________________________________________________\n",
      "max_pooling3d_2 (MaxPooling3 (None, 7, 25, 25, 16)     0         \n",
      "_________________________________________________________________\n",
      "conv3d_3 (Conv3D)            (None, 7, 25, 25, 32)     13856     \n",
      "_________________________________________________________________\n",
      "batch_normalization_3 (Batch (None, 7, 25, 25, 32)     128       \n",
      "_________________________________________________________________\n",
      "activation_3 (Activation)    (None, 7, 25, 25, 32)     0         \n",
      "_________________________________________________________________\n",
      "max_pooling3d_3 (MaxPooling3 (None, 3, 12, 12, 32)     0         \n",
      "_________________________________________________________________\n",
      "conv3d_4 (Conv3D)            (None, 3, 12, 12, 64)     55360     \n",
      "_________________________________________________________________\n",
      "batch_normalization_4 (Batch (None, 3, 12, 12, 64)     256       \n",
      "_________________________________________________________________\n",
      "activation_4 (Activation)    (None, 3, 12, 12, 64)     0         \n",
      "_________________________________________________________________\n",
      "max_pooling3d_4 (MaxPooling3 (None, 1, 6, 6, 64)       0         \n",
      "_________________________________________________________________\n",
      "flatten_1 (Flatten)          (None, 2304)              0         \n",
      "_________________________________________________________________\n",
      "dense_1 (Dense)              (None, 256)               590080    \n",
      "_________________________________________________________________\n",
      "dropout_1 (Dropout)          (None, 256)               0         \n",
      "_________________________________________________________________\n",
      "dense_2 (Dense)              (None, 128)               32896     \n",
      "_________________________________________________________________\n",
      "dropout_2 (Dropout)          (None, 128)               0         \n",
      "_________________________________________________________________\n",
      "dense_3 (Dense)              (None, 5)                 645       \n",
      "=================================================================\n",
      "Total params: 697,445\n",
      "Trainable params: 697,205\n",
      "Non-trainable params: 240\n",
      "_________________________________________________________________\n",
      "None\n"
     ]
    }
   ],
   "source": [
    "optimiser = optimizers.Adam()#write your optimizer\n",
    "model.compile(optimizer=optimiser, loss='categorical_crossentropy', metrics=['categorical_accuracy'])\n",
    "print (model.summary())"
   ]
  },
  {
   "cell_type": "markdown",
   "metadata": {},
   "source": [
    "Let us create the `train_generator` and the `val_generator` which will be used in `.fit_generator`."
   ]
  },
  {
   "cell_type": "code",
   "execution_count": 9,
   "metadata": {},
   "outputs": [],
   "source": [
    "train_generator = generator(train_path, train_doc, batch_size)\n",
    "val_generator = generator(val_path, val_doc, batch_size)"
   ]
  },
  {
   "cell_type": "code",
   "execution_count": 10,
   "metadata": {},
   "outputs": [],
   "source": [
    "model_name = 'model_init' + '_' + str(curr_dt_time).replace(' ','').replace(':','_') + '/'\n",
    "    \n",
    "if not os.path.exists(model_name):\n",
    "    os.mkdir(model_name)\n",
    "        \n",
    "filepath = model_name + 'model-{epoch:05d}-{loss:.5f}-{categorical_accuracy:.5f}-{val_loss:.5f}-{val_categorical_accuracy:.5f}.h5'\n",
    "\n",
    "checkpoint = ModelCheckpoint(filepath, monitor='val_loss', verbose=1, save_best_only=False, save_weights_only=False, mode='auto', period=1)\n",
    "\n",
    "LR = ReduceLROnPlateau(monitor='val_loss', factor=0.5, patience=2, cooldown=1, verbose=1)# write the REducelronplateau code here\n",
    "callbacks_list = [checkpoint, LR]"
   ]
  },
  {
   "cell_type": "markdown",
   "metadata": {},
   "source": [
    "The `steps_per_epoch` and `validation_steps` are used by `fit_generator` to decide the number of next() calls it need to make."
   ]
  },
  {
   "cell_type": "code",
   "execution_count": 11,
   "metadata": {},
   "outputs": [],
   "source": [
    "if (num_train_sequences%batch_size) == 0:\n",
    "    steps_per_epoch = int(num_train_sequences/batch_size)\n",
    "else:\n",
    "    steps_per_epoch = (num_train_sequences//batch_size) + 1\n",
    "\n",
    "if (num_val_sequences%batch_size) == 0:\n",
    "    validation_steps = int(num_val_sequences/batch_size)\n",
    "else:\n",
    "    validation_steps = (num_val_sequences//batch_size) + 1"
   ]
  },
  {
   "cell_type": "markdown",
   "metadata": {},
   "source": [
    "Let us now fit the model. This will start training the model and with the help of the checkpoints, you'll be able to save the model at the end of each epoch."
   ]
  },
  {
   "cell_type": "code",
   "execution_count": 67,
   "metadata": {},
   "outputs": [
    {
     "name": "stdout",
     "output_type": "stream",
     "text": [
      "Epoch 1/20\n"
     ]
    },
    {
     "name": "stderr",
     "output_type": "stream",
     "text": [
      "/mnt/disks/user/anaconda3/lib/python3.6/site-packages/skimage/transform/_warps.py:105: UserWarning: The default mode, 'constant', will be changed to 'reflect' in skimage 0.15.\n",
      "  warn(\"The default mode, 'constant', will be changed to 'reflect' in \"\n",
      "/mnt/disks/user/anaconda3/lib/python3.6/site-packages/skimage/transform/_warps.py:110: UserWarning: Anti-aliasing will be enabled by default in skimage 0.15 to avoid aliasing artifacts when down-sampling images.\n",
      "  warn(\"Anti-aliasing will be enabled by default in skimage 0.15 to \"\n"
     ]
    },
    {
     "name": "stdout",
     "output_type": "stream",
     "text": [
      "34/34 [==============================] - 119s 3s/step - loss: 0.3887 - categorical_accuracy: 0.8572 - val_loss: 0.5775 - val_categorical_accuracy: 0.7500\n",
      "\n",
      "Epoch 00001: saving model to model_init_2020-05-2312_37_04.913544/model-00001-0.38986-0.85370-0.57749-0.75000.h5\n",
      "Epoch 2/20\n",
      "34/34 [==============================] - 114s 3s/step - loss: 0.3124 - categorical_accuracy: 0.8823 - val_loss: 0.5307 - val_categorical_accuracy: 0.8200\n",
      "\n",
      "Epoch 00002: saving model to model_init_2020-05-2312_37_04.913544/model-00002-0.32010-0.87934-0.53072-0.82000.h5\n",
      "Epoch 3/20\n",
      "34/34 [==============================] - 122s 4s/step - loss: 0.3230 - categorical_accuracy: 0.8852 - val_loss: 0.4949 - val_categorical_accuracy: 0.8500\n",
      "\n",
      "Epoch 00003: saving model to model_init_2020-05-2312_37_04.913544/model-00003-0.32695-0.88235-0.49488-0.85000.h5\n",
      "Epoch 4/20\n",
      "34/34 [==============================] - 124s 4s/step - loss: 0.2811 - categorical_accuracy: 0.9051 - val_loss: 0.5436 - val_categorical_accuracy: 0.8200\n",
      "\n",
      "Epoch 00004: saving model to model_init_2020-05-2312_37_04.913544/model-00004-0.27905-0.91101-0.54364-0.82000.h5\n",
      "Epoch 5/20\n",
      "34/34 [==============================] - 107s 3s/step - loss: 0.2437 - categorical_accuracy: 0.9183 - val_loss: 0.8406 - val_categorical_accuracy: 0.7700\n",
      "\n",
      "Epoch 00005: saving model to model_init_2020-05-2312_37_04.913544/model-00005-0.23366-0.92459-0.84062-0.77000.h5\n",
      "\n",
      "Epoch 00005: ReduceLROnPlateau reducing learning rate to 0.0001250000059371814.\n",
      "Epoch 6/20\n",
      "34/34 [==============================] - 124s 4s/step - loss: 0.3476 - categorical_accuracy: 0.8676 - val_loss: 1.1365 - val_categorical_accuracy: 0.7200\n",
      "\n",
      "Epoch 00006: saving model to model_init_2020-05-2312_37_04.913544/model-00006-0.35227-0.86425-1.13649-0.72000.h5\n",
      "Epoch 7/20\n",
      "34/34 [==============================] - 112s 3s/step - loss: 0.2697 - categorical_accuracy: 0.9095 - val_loss: 0.5030 - val_categorical_accuracy: 0.8100\n",
      "\n",
      "Epoch 00007: saving model to model_init_2020-05-2312_37_04.913544/model-00007-0.24350-0.91554-0.50300-0.81000.h5\n",
      "\n",
      "Epoch 00007: ReduceLROnPlateau reducing learning rate to 6.25000029685907e-05.\n",
      "Epoch 8/20\n",
      "34/34 [==============================] - 109s 3s/step - loss: 0.2778 - categorical_accuracy: 0.9036 - val_loss: 0.4710 - val_categorical_accuracy: 0.8500\n",
      "\n",
      "Epoch 00008: saving model to model_init_2020-05-2312_37_04.913544/model-00008-0.27039-0.90950-0.47099-0.85000.h5\n",
      "Epoch 9/20\n",
      "34/34 [==============================] - 107s 3s/step - loss: 0.2417 - categorical_accuracy: 0.9132 - val_loss: 0.3989 - val_categorical_accuracy: 0.8700\n",
      "\n",
      "Epoch 00009: saving model to model_init_2020-05-2312_37_04.913544/model-00009-0.24492-0.91101-0.39887-0.87000.h5\n",
      "Epoch 10/20\n",
      "34/34 [==============================] - 108s 3s/step - loss: 0.2529 - categorical_accuracy: 0.9176 - val_loss: 0.3750 - val_categorical_accuracy: 0.8600\n",
      "\n",
      "Epoch 00010: saving model to model_init_2020-05-2312_37_04.913544/model-00010-0.25794-0.91554-0.37502-0.86000.h5\n",
      "Epoch 11/20\n",
      "34/34 [==============================] - 125s 4s/step - loss: 0.2227 - categorical_accuracy: 0.9198 - val_loss: 0.3640 - val_categorical_accuracy: 0.8700\n",
      "\n",
      "Epoch 00011: saving model to model_init_2020-05-2312_37_04.913544/model-00011-0.21791-0.92609-0.36401-0.87000.h5\n",
      "Epoch 12/20\n",
      "34/34 [==============================] - 124s 4s/step - loss: 0.2224 - categorical_accuracy: 0.9249 - val_loss: 0.4563 - val_categorical_accuracy: 0.8200\n",
      "\n",
      "Epoch 00012: saving model to model_init_2020-05-2312_37_04.913544/model-00012-0.21873-0.92308-0.45625-0.82000.h5\n",
      "Epoch 13/20\n",
      "34/34 [==============================] - 123s 4s/step - loss: 0.1979 - categorical_accuracy: 0.9272 - val_loss: 0.4797 - val_categorical_accuracy: 0.8200\n",
      "\n",
      "Epoch 00013: saving model to model_init_2020-05-2312_37_04.913544/model-00013-0.19131-0.93363-0.47973-0.82000.h5\n",
      "\n",
      "Epoch 00013: ReduceLROnPlateau reducing learning rate to 3.125000148429535e-05.\n",
      "Epoch 14/20\n",
      "34/34 [==============================] - 121s 4s/step - loss: 0.2197 - categorical_accuracy: 0.9198 - val_loss: 0.3556 - val_categorical_accuracy: 0.9000\n",
      "\n",
      "Epoch 00014: saving model to model_init_2020-05-2312_37_04.913544/model-00014-0.21080-0.92609-0.35559-0.90000.h5\n",
      "Epoch 15/20\n",
      "34/34 [==============================] - 119s 4s/step - loss: 0.2060 - categorical_accuracy: 0.9308 - val_loss: 0.4211 - val_categorical_accuracy: 0.8500\n",
      "\n",
      "Epoch 00015: saving model to model_init_2020-05-2312_37_04.913544/model-00015-0.21081-0.92911-0.42107-0.85000.h5\n",
      "Epoch 16/20\n",
      "34/34 [==============================] - 116s 3s/step - loss: 0.2426 - categorical_accuracy: 0.9168 - val_loss: 0.3537 - val_categorical_accuracy: 0.8700\n",
      "\n",
      "Epoch 00016: saving model to model_init_2020-05-2312_37_04.913544/model-00016-0.20942-0.92308-0.35368-0.87000.h5\n",
      "Epoch 17/20\n",
      "34/34 [==============================] - 119s 3s/step - loss: 0.1831 - categorical_accuracy: 0.9514 - val_loss: 0.4411 - val_categorical_accuracy: 0.8400\n",
      "\n",
      "Epoch 00017: saving model to model_init_2020-05-2312_37_04.913544/model-00017-0.18100-0.95023-0.44115-0.84000.h5\n",
      "Epoch 18/20\n",
      "34/34 [==============================] - 119s 4s/step - loss: 0.2050 - categorical_accuracy: 0.9397 - val_loss: 0.4247 - val_categorical_accuracy: 0.8600\n",
      "\n",
      "Epoch 00018: saving model to model_init_2020-05-2312_37_04.913544/model-00018-0.19945-0.93816-0.42472-0.86000.h5\n",
      "\n",
      "Epoch 00018: ReduceLROnPlateau reducing learning rate to 1.5625000742147677e-05.\n",
      "Epoch 19/20\n",
      "34/34 [==============================] - 105s 3s/step - loss: 0.1743 - categorical_accuracy: 0.9382 - val_loss: 0.3407 - val_categorical_accuracy: 0.8600\n",
      "\n",
      "Epoch 00019: saving model to model_init_2020-05-2312_37_04.913544/model-00019-0.17620-0.93665-0.34072-0.86000.h5\n",
      "Epoch 20/20\n",
      "34/34 [==============================] - 122s 4s/step - loss: 0.1907 - categorical_accuracy: 0.9367 - val_loss: 0.4223 - val_categorical_accuracy: 0.8400\n",
      "\n",
      "Epoch 00020: saving model to model_init_2020-05-2312_37_04.913544/model-00020-0.19532-0.93514-0.42226-0.84000.h5\n"
     ]
    },
    {
     "data": {
      "text/plain": [
       "<keras.callbacks.History at 0x7f60736827f0>"
      ]
     },
     "execution_count": 67,
     "metadata": {},
     "output_type": "execute_result"
    }
   ],
   "source": [
    "model.fit_generator(train_generator, steps_per_epoch=steps_per_epoch, epochs=num_epochs, verbose=1, \n",
    "                    callbacks=callbacks_list, validation_data=val_generator, \n",
    "                    validation_steps=validation_steps, class_weight=None, workers=1, initial_epoch=0)"
   ]
  },
  {
   "cell_type": "code",
   "execution_count": 58,
   "metadata": {},
   "outputs": [
    {
     "name": "stdout",
     "output_type": "stream",
     "text": [
      "Source path =  ./Project_data/val ; batch size = Source path =  ./Project_data/train ; batch size = 20\n",
      "20\n",
      "Epoch 1/20\n"
     ]
    },
    {
     "name": "stderr",
     "output_type": "stream",
     "text": [
      "/mnt/disks/user/anaconda3/lib/python3.6/site-packages/skimage/transform/_warps.py:105: UserWarning: The default mode, 'constant', will be changed to 'reflect' in skimage 0.15.\n",
      "  warn(\"The default mode, 'constant', will be changed to 'reflect' in \"\n",
      "/mnt/disks/user/anaconda3/lib/python3.6/site-packages/skimage/transform/_warps.py:110: UserWarning: Anti-aliasing will be enabled by default in skimage 0.15 to avoid aliasing artifacts when down-sampling images.\n",
      "  warn(\"Anti-aliasing will be enabled by default in skimage 0.15 to \"\n"
     ]
    },
    {
     "name": "stdout",
     "output_type": "stream",
     "text": [
      "34/34 [==============================] - 121s 4s/step - loss: 1.8961 - categorical_accuracy: 0.2627 - val_loss: 1.3837 - val_categorical_accuracy: 0.4600\n",
      "\n",
      "Epoch 00001: saving model to model_init_2020-05-2312_37_04.913544/model-00001-1.90269-0.26094-1.38369-0.46000.h5\n",
      "Epoch 2/20\n",
      "34/34 [==============================] - 116s 3s/step - loss: 1.4266 - categorical_accuracy: 0.3878 - val_loss: 1.3222 - val_categorical_accuracy: 0.3400\n",
      "\n",
      "Epoch 00002: saving model to model_init_2020-05-2312_37_04.913544/model-00002-1.44193-0.37255-1.32220-0.34000.h5\n",
      "Epoch 3/20\n",
      "34/34 [==============================] - 108s 3s/step - loss: 1.3058 - categorical_accuracy: 0.4430 - val_loss: 1.2374 - val_categorical_accuracy: 0.3700\n",
      "\n",
      "Epoch 00003: saving model to model_init_2020-05-2312_37_04.913544/model-00003-1.32135-0.43741-1.23745-0.37000.h5\n",
      "Epoch 4/20\n",
      "34/34 [==============================] - 125s 4s/step - loss: 1.2153 - categorical_accuracy: 0.4702 - val_loss: 1.4103 - val_categorical_accuracy: 0.3300\n",
      "\n",
      "Epoch 00004: saving model to model_init_2020-05-2312_37_04.913544/model-00004-1.21924-0.47360-1.41034-0.33000.h5\n",
      "Epoch 5/20\n",
      "34/34 [==============================] - 125s 4s/step - loss: 1.1846 - categorical_accuracy: 0.5408 - val_loss: 1.1803 - val_categorical_accuracy: 0.4100\n",
      "\n",
      "Epoch 00005: saving model to model_init_2020-05-2312_37_04.913544/model-00005-1.17835-0.54600-1.18035-0.41000.h5\n",
      "Epoch 6/20\n",
      "34/34 [==============================] - 110s 3s/step - loss: 1.1121 - categorical_accuracy: 0.5350 - val_loss: 1.0488 - val_categorical_accuracy: 0.5500\n",
      "\n",
      "Epoch 00006: saving model to model_init_2020-05-2312_37_04.913544/model-00006-1.11590-0.53997-1.04876-0.55000.h5\n",
      "Epoch 7/20\n",
      "34/34 [==============================] - 107s 3s/step - loss: 1.0647 - categorical_accuracy: 0.5681 - val_loss: 0.9308 - val_categorical_accuracy: 0.6400\n",
      "\n",
      "Epoch 00007: saving model to model_init_2020-05-2312_37_04.913544/model-00007-1.03854-0.56561-0.93084-0.64000.h5\n",
      "Epoch 8/20\n",
      "34/34 [==============================] - 121s 4s/step - loss: 0.9459 - categorical_accuracy: 0.6387 - val_loss: 0.8074 - val_categorical_accuracy: 0.6300\n",
      "\n",
      "Epoch 00008: saving model to model_init_2020-05-2312_37_04.913544/model-00008-0.94534-0.63801-0.80745-0.63000.h5\n",
      "Epoch 9/20\n",
      "34/34 [==============================] - 125s 4s/step - loss: 0.8525 - categorical_accuracy: 0.6623 - val_loss: 1.0289 - val_categorical_accuracy: 0.5400\n",
      "\n",
      "Epoch 00009: saving model to model_init_2020-05-2312_37_04.913544/model-00009-0.85086-0.66214-1.02895-0.54000.h5\n",
      "Epoch 10/20\n",
      "34/34 [==============================] - 114s 3s/step - loss: 0.8173 - categorical_accuracy: 0.6990 - val_loss: 0.9858 - val_categorical_accuracy: 0.5700\n",
      "\n",
      "Epoch 00010: saving model to model_init_2020-05-2312_37_04.913544/model-00010-0.81860-0.69985-0.98578-0.57000.h5\n",
      "\n",
      "Epoch 00010: ReduceLROnPlateau reducing learning rate to 0.0005000000237487257.\n",
      "Epoch 11/20\n",
      "34/34 [==============================] - 108s 3s/step - loss: 0.6589 - categorical_accuracy: 0.7491 - val_loss: 0.8616 - val_categorical_accuracy: 0.6200\n",
      "\n",
      "Epoch 00011: saving model to model_init_2020-05-2312_37_04.913544/model-00011-0.65061-0.75113-0.86158-0.62000.h5\n",
      "Epoch 12/20\n",
      "34/34 [==============================] - 107s 3s/step - loss: 0.6599 - categorical_accuracy: 0.7535 - val_loss: 0.9164 - val_categorical_accuracy: 0.6700\n",
      "\n",
      "Epoch 00012: saving model to model_init_2020-05-2312_37_04.913544/model-00012-0.59337-0.77225-0.91639-0.67000.h5\n",
      "\n",
      "Epoch 00012: ReduceLROnPlateau reducing learning rate to 0.0002500000118743628.\n",
      "Epoch 13/20\n",
      "34/34 [==============================] - 126s 4s/step - loss: 0.5727 - categorical_accuracy: 0.7815 - val_loss: 0.6667 - val_categorical_accuracy: 0.7100\n",
      "\n",
      "Epoch 00013: saving model to model_init_2020-05-2312_37_04.913544/model-00013-0.52993-0.80090-0.66667-0.71000.h5\n",
      "Epoch 14/20\n",
      "34/34 [==============================] - 110s 3s/step - loss: 0.4669 - categorical_accuracy: 0.8219 - val_loss: 0.6165 - val_categorical_accuracy: 0.7400\n",
      "\n",
      "Epoch 00014: saving model to model_init_2020-05-2312_37_04.913544/model-00014-0.47801-0.81750-0.61653-0.74000.h5\n",
      "Epoch 15/20\n",
      "34/34 [==============================] - 109s 3s/step - loss: 0.4442 - categorical_accuracy: 0.8322 - val_loss: 0.7592 - val_categorical_accuracy: 0.7300\n",
      "\n",
      "Epoch 00015: saving model to model_init_2020-05-2312_37_04.913544/model-00015-0.45156-0.82805-0.75922-0.73000.h5\n",
      "Epoch 16/20\n",
      "34/34 [==============================] - 125s 4s/step - loss: 0.4428 - categorical_accuracy: 0.8315 - val_loss: 0.7382 - val_categorical_accuracy: 0.7300\n",
      "\n",
      "Epoch 00016: saving model to model_init_2020-05-2312_37_04.913544/model-00016-0.43311-0.83560-0.73815-0.73000.h5\n",
      "\n",
      "Epoch 00016: ReduceLROnPlateau reducing learning rate to 0.0001250000059371814.\n",
      "Epoch 17/20\n",
      "34/34 [==============================] - 116s 3s/step - loss: 0.3576 - categorical_accuracy: 0.8779 - val_loss: 0.5466 - val_categorical_accuracy: 0.7900\n",
      "\n",
      "Epoch 00017: saving model to model_init_2020-05-2312_37_04.913544/model-00017-0.36463-0.87481-0.54661-0.79000.h5\n",
      "Epoch 18/20\n",
      "34/34 [==============================] - 112s 3s/step - loss: 0.3210 - categorical_accuracy: 0.8793 - val_loss: 0.5558 - val_categorical_accuracy: 0.7800\n",
      "\n",
      "Epoch 00018: saving model to model_init_2020-05-2312_37_04.913544/model-00018-0.32639-0.87632-0.55575-0.78000.h5\n",
      "Epoch 19/20\n",
      "34/34 [==============================] - 107s 3s/step - loss: 0.4598 - categorical_accuracy: 0.8411 - val_loss: 0.6888 - val_categorical_accuracy: 0.7900\n",
      "\n",
      "Epoch 00019: saving model to model_init_2020-05-2312_37_04.913544/model-00019-0.40587-0.85370-0.68884-0.79000.h5\n",
      "\n",
      "Epoch 00019: ReduceLROnPlateau reducing learning rate to 6.25000029685907e-05.\n",
      "Epoch 20/20\n",
      "34/34 [==============================] - 117s 3s/step - loss: 0.3629 - categorical_accuracy: 0.8742 - val_loss: 0.6353 - val_categorical_accuracy: 0.7500\n",
      "\n",
      "Epoch 00020: saving model to model_init_2020-05-2312_37_04.913544/model-00020-0.35202-0.87934-0.63526-0.75000.h5\n"
     ]
    },
    {
     "data": {
      "text/plain": [
       "<keras.callbacks.History at 0x7f6074e1f7b8>"
      ]
     },
     "execution_count": 58,
     "metadata": {},
     "output_type": "execute_result"
    }
   ],
   "source": [
    "model.fit_generator(train_generator, steps_per_epoch=steps_per_epoch, epochs=num_epochs, verbose=1, \n",
    "                    callbacks=callbacks_list, validation_data=val_generator, \n",
    "                    validation_steps=validation_steps, class_weight=None, workers=1, initial_epoch=0)"
   ]
  },
  {
   "cell_type": "code",
   "execution_count": 66,
   "metadata": {},
   "outputs": [
    {
     "name": "stdout",
     "output_type": "stream",
     "text": [
      "Source path =  ./Project_data/val ; batch size = 20\n",
      "Source path =  ./Project_data/train ; batch size = 20\n",
      "Epoch 1/20\n"
     ]
    },
    {
     "name": "stderr",
     "output_type": "stream",
     "text": [
      "/mnt/disks/user/anaconda3/lib/python3.6/site-packages/skimage/transform/_warps.py:105: UserWarning: The default mode, 'constant', will be changed to 'reflect' in skimage 0.15.\n",
      "  warn(\"The default mode, 'constant', will be changed to 'reflect' in \"\n",
      "/mnt/disks/user/anaconda3/lib/python3.6/site-packages/skimage/transform/_warps.py:110: UserWarning: Anti-aliasing will be enabled by default in skimage 0.15 to avoid aliasing artifacts when down-sampling images.\n",
      "  warn(\"Anti-aliasing will be enabled by default in skimage 0.15 to \"\n"
     ]
    },
    {
     "name": "stdout",
     "output_type": "stream",
     "text": [
      "34/34 [==============================] - 121s 4s/step - loss: 2.3413 - categorical_accuracy: 0.2561 - val_loss: 1.4331 - val_categorical_accuracy: 0.3100\n",
      "\n",
      "Epoch 00001: saving model to model_init_2020-05-2312_37_04.913544/model-00001-2.36447-0.26244-1.43311-0.31000.h5\n",
      "Epoch 2/20\n",
      "34/34 [==============================] - 111s 3s/step - loss: 1.4832 - categorical_accuracy: 0.3377 - val_loss: 1.4161 - val_categorical_accuracy: 0.3300\n",
      "\n",
      "Epoch 00002: saving model to model_init_2020-05-2312_37_04.913544/model-00002-1.47970-0.33786-1.41609-0.33000.h5\n",
      "Epoch 3/20\n",
      "34/34 [==============================] - 114s 3s/step - loss: 1.3974 - categorical_accuracy: 0.3878 - val_loss: 1.3516 - val_categorical_accuracy: 0.4000\n",
      "\n",
      "Epoch 00003: saving model to model_init_2020-05-2312_37_04.913544/model-00003-1.39138-0.38914-1.35161-0.40000.h5\n",
      "Epoch 4/20\n",
      "34/34 [==============================] - 107s 3s/step - loss: 1.2953 - categorical_accuracy: 0.4305 - val_loss: 1.2108 - val_categorical_accuracy: 0.5000\n",
      "\n",
      "Epoch 00004: saving model to model_init_2020-05-2312_37_04.913544/model-00004-1.30393-0.43288-1.21080-0.50000.h5\n",
      "Epoch 5/20\n",
      "34/34 [==============================] - 116s 3s/step - loss: 1.2023 - categorical_accuracy: 0.4731 - val_loss: 1.0426 - val_categorical_accuracy: 0.5600\n",
      "\n",
      "Epoch 00005: saving model to model_init_2020-05-2312_37_04.913544/model-00005-1.20828-0.47662-1.04259-0.56000.h5\n",
      "Epoch 6/20\n",
      "34/34 [==============================] - 124s 4s/step - loss: 1.1275 - categorical_accuracy: 0.5166 - val_loss: 0.9822 - val_categorical_accuracy: 0.7000\n",
      "\n",
      "Epoch 00006: saving model to model_init_2020-05-2312_37_04.913544/model-00006-1.13484-0.51282-0.98220-0.70000.h5\n",
      "Epoch 7/20\n",
      "34/34 [==============================] - 115s 3s/step - loss: 1.0971 - categorical_accuracy: 0.5622 - val_loss: 1.0482 - val_categorical_accuracy: 0.6100\n",
      "\n",
      "Epoch 00007: saving model to model_init_2020-05-2312_37_04.913544/model-00007-1.10289-0.55958-1.04817-0.61000.h5\n",
      "Epoch 8/20\n",
      "34/34 [==============================] - 115s 3s/step - loss: 1.0343 - categorical_accuracy: 0.5659 - val_loss: 0.8720 - val_categorical_accuracy: 0.6500\n",
      "\n",
      "Epoch 00008: saving model to model_init_2020-05-2312_37_04.913544/model-00008-1.05047-0.55505-0.87199-0.65000.h5\n",
      "Epoch 9/20\n",
      "34/34 [==============================] - 108s 3s/step - loss: 0.9717 - categorical_accuracy: 0.6063 - val_loss: 0.9789 - val_categorical_accuracy: 0.6500\n",
      "\n",
      "Epoch 00009: saving model to model_init_2020-05-2312_37_04.913544/model-00009-0.97781-0.60483-0.97887-0.65000.h5\n",
      "Epoch 10/20\n",
      "34/34 [==============================] - 108s 3s/step - loss: 0.9369 - categorical_accuracy: 0.6520 - val_loss: 0.8816 - val_categorical_accuracy: 0.6300\n",
      "\n",
      "Epoch 00010: saving model to model_init_2020-05-2312_37_04.913544/model-00010-0.93081-0.65158-0.88163-0.63000.h5\n",
      "\n",
      "Epoch 00010: ReduceLROnPlateau reducing learning rate to 0.0005000000237487257.\n",
      "Epoch 11/20\n",
      "34/34 [==============================] - 118s 3s/step - loss: 0.7462 - categorical_accuracy: 0.7241 - val_loss: 0.6925 - val_categorical_accuracy: 0.7600\n",
      "\n",
      "Epoch 00011: saving model to model_init_2020-05-2312_37_04.913544/model-00011-0.75278-0.72549-0.69248-0.76000.h5\n",
      "Epoch 12/20\n",
      "34/34 [==============================] - 113s 3s/step - loss: 0.7690 - categorical_accuracy: 0.6990 - val_loss: 0.8458 - val_categorical_accuracy: 0.6500\n",
      "\n",
      "Epoch 00012: saving model to model_init_2020-05-2312_37_04.913544/model-00012-0.76527-0.69985-0.84583-0.65000.h5\n",
      "Epoch 13/20\n",
      "34/34 [==============================] - 114s 3s/step - loss: 0.6748 - categorical_accuracy: 0.7373 - val_loss: 0.6548 - val_categorical_accuracy: 0.7200\n",
      "\n",
      "Epoch 00013: saving model to model_init_2020-05-2312_37_04.913544/model-00013-0.67884-0.73906-0.65483-0.72000.h5\n",
      "Epoch 14/20\n",
      "34/34 [==============================] - 111s 3s/step - loss: 0.6555 - categorical_accuracy: 0.7616 - val_loss: 0.6644 - val_categorical_accuracy: 0.7300\n",
      "\n",
      "Epoch 00014: saving model to model_init_2020-05-2312_37_04.913544/model-00014-0.66149-0.75566-0.66441-0.73000.h5\n",
      "Epoch 15/20\n",
      "34/34 [==============================] - 122s 4s/step - loss: 0.5723 - categorical_accuracy: 0.7829 - val_loss: 0.5424 - val_categorical_accuracy: 0.7900\n",
      "\n",
      "Epoch 00015: saving model to model_init_2020-05-2312_37_04.913544/model-00015-0.57420-0.78582-0.54242-0.79000.h5\n",
      "Epoch 16/20\n",
      "34/34 [==============================] - 116s 3s/step - loss: 0.5578 - categorical_accuracy: 0.7925 - val_loss: 0.6770 - val_categorical_accuracy: 0.7100\n",
      "\n",
      "Epoch 00016: saving model to model_init_2020-05-2312_37_04.913544/model-00016-0.56723-0.78733-0.67698-0.71000.h5\n",
      "Epoch 17/20\n",
      "34/34 [==============================] - 107s 3s/step - loss: 0.5207 - categorical_accuracy: 0.7925 - val_loss: 0.5561 - val_categorical_accuracy: 0.7700\n",
      "\n",
      "Epoch 00017: saving model to model_init_2020-05-2312_37_04.913544/model-00017-0.51035-0.80392-0.55612-0.77000.h5\n",
      "\n",
      "Epoch 00017: ReduceLROnPlateau reducing learning rate to 0.0002500000118743628.\n",
      "Epoch 18/20\n",
      "34/34 [==============================] - 125s 4s/step - loss: 0.4874 - categorical_accuracy: 0.8219 - val_loss: 0.5337 - val_categorical_accuracy: 0.8000\n",
      "\n",
      "Epoch 00018: saving model to model_init_2020-05-2312_37_04.913544/model-00018-0.49683-0.81750-0.53370-0.80000.h5\n",
      "Epoch 19/20\n",
      "34/34 [==============================] - 106s 3s/step - loss: 0.3999 - categorical_accuracy: 0.8565 - val_loss: 0.5198 - val_categorical_accuracy: 0.8000\n",
      "\n",
      "Epoch 00019: saving model to model_init_2020-05-2312_37_04.913544/model-00019-0.38102-0.86124-0.51983-0.80000.h5\n",
      "Epoch 20/20\n",
      "34/34 [==============================] - 124s 4s/step - loss: 0.4257 - categorical_accuracy: 0.8528 - val_loss: 0.5375 - val_categorical_accuracy: 0.7900\n",
      "\n",
      "Epoch 00020: saving model to model_init_2020-05-2312_37_04.913544/model-00020-0.42875-0.84917-0.53750-0.79000.h5\n"
     ]
    },
    {
     "data": {
      "text/plain": [
       "<keras.callbacks.History at 0x7f60736823c8>"
      ]
     },
     "execution_count": 66,
     "metadata": {},
     "output_type": "execute_result"
    }
   ],
   "source": [
    "model.fit_generator(train_generator, steps_per_epoch=steps_per_epoch, epochs=num_epochs, verbose=1, \n",
    "                    callbacks=callbacks_list, validation_data=val_generator, \n",
    "                    validation_steps=validation_steps, class_weight=None, workers=1, initial_epoch=0)"
   ]
  },
  {
   "cell_type": "markdown",
   "metadata": {},
   "source": [
    "#### Conv2D + RNN model"
   ]
  },
  {
   "cell_type": "code",
   "execution_count": 12,
   "metadata": {},
   "outputs": [],
   "source": [
    "#write your model here\n",
    "#nb_filters = [8,16,32,64]\n",
    "#nb_dense = [256, 128, 5]\n",
    "nb_filters = [8,16,32,64]\n",
    "nb_dense = [128,64,5]\n",
    "nb_classes = 5\n",
    "# Input\n",
    "input_shape=(no_frames,no_rows,no_cols,no_channel)\n",
    "\n",
    "# Define model\n",
    "model_2d = Sequential()\n",
    "model_2d.add(TimeDistributed(Conv2D(nb_filters[0], (3, 3), strides=(2, 2),activation='relu', padding='same'), input_shape=input_shape))\n",
    "\n",
    "\n",
    "model_2d.add(TimeDistributed(Conv2D(nb_filters[1], (3,3),padding='same', activation='relu')))\n",
    "model_2d.add(TimeDistributed(MaxPooling2D((2, 2), strides=(2, 2))))\n",
    "\n",
    "model_2d.add(TimeDistributed(Conv2D(nb_filters[2], (3,3),padding='same', activation='relu')))\n",
    "model_2d.add(TimeDistributed(MaxPooling2D((2, 2), strides=(2, 2))))\n",
    "\n",
    "model_2d.add(TimeDistributed(Conv2D(nb_filters[3], (2,2),padding='same', activation='relu')))\n",
    "model_2d.add(TimeDistributed(MaxPooling2D((2, 2), strides=(2, 2))))\n",
    "\n",
    "model_2d.add(TimeDistributed(BatchNormalization()))\n",
    "model_2d.add(Dropout(0.25))\n",
    "\n",
    "model_2d.add(TimeDistributed(Flatten()))\n",
    "\n",
    "model_2d.add(Dense(nb_dense[0], activation='relu'))\n",
    "model_2d.add(Dropout(0.50))\n",
    "model_2d.add(Dense(nb_dense[1], activation='relu'))\n",
    "model_2d.add(Dropout(0.50))\n",
    "\n",
    "## using GRU as the RNN model along with softmax as our last layer.\n",
    "model_2d.add(GRU(128, return_sequences=False))\n",
    "model_2d.add(Dense(nb_classes, activation='softmax')) # using Softmax as last layer"
   ]
  },
  {
   "cell_type": "code",
   "execution_count": 13,
   "metadata": {},
   "outputs": [
    {
     "name": "stdout",
     "output_type": "stream",
     "text": [
      "_________________________________________________________________\n",
      "Layer (type)                 Output Shape              Param #   \n",
      "=================================================================\n",
      "time_distributed_1 (TimeDist (None, 30, 50, 50, 8)     224       \n",
      "_________________________________________________________________\n",
      "time_distributed_2 (TimeDist (None, 30, 50, 50, 16)    1168      \n",
      "_________________________________________________________________\n",
      "time_distributed_3 (TimeDist (None, 30, 25, 25, 16)    0         \n",
      "_________________________________________________________________\n",
      "time_distributed_4 (TimeDist (None, 30, 25, 25, 32)    4640      \n",
      "_________________________________________________________________\n",
      "time_distributed_5 (TimeDist (None, 30, 12, 12, 32)    0         \n",
      "_________________________________________________________________\n",
      "time_distributed_6 (TimeDist (None, 30, 12, 12, 64)    8256      \n",
      "_________________________________________________________________\n",
      "time_distributed_7 (TimeDist (None, 30, 6, 6, 64)      0         \n",
      "_________________________________________________________________\n",
      "time_distributed_8 (TimeDist (None, 30, 6, 6, 64)      256       \n",
      "_________________________________________________________________\n",
      "dropout_3 (Dropout)          (None, 30, 6, 6, 64)      0         \n",
      "_________________________________________________________________\n",
      "time_distributed_9 (TimeDist (None, 30, 2304)          0         \n",
      "_________________________________________________________________\n",
      "dense_4 (Dense)              (None, 30, 128)           295040    \n",
      "_________________________________________________________________\n",
      "dropout_4 (Dropout)          (None, 30, 128)           0         \n",
      "_________________________________________________________________\n",
      "dense_5 (Dense)              (None, 30, 64)            8256      \n",
      "_________________________________________________________________\n",
      "dropout_5 (Dropout)          (None, 30, 64)            0         \n",
      "_________________________________________________________________\n",
      "gru_1 (GRU)                  (None, 128)               74112     \n",
      "_________________________________________________________________\n",
      "dense_6 (Dense)              (None, 5)                 645       \n",
      "=================================================================\n",
      "Total params: 392,597\n",
      "Trainable params: 392,469\n",
      "Non-trainable params: 128\n",
      "_________________________________________________________________\n",
      "None\n"
     ]
    }
   ],
   "source": [
    "optimiser =Adam() #write your optimizer\n",
    "model_2d.compile(optimizer=optimiser, loss='categorical_crossentropy', metrics=['categorical_accuracy'])\n",
    "print (model_2d.summary())\n"
   ]
  },
  {
   "cell_type": "code",
   "execution_count": 14,
   "metadata": {},
   "outputs": [
    {
     "name": "stdout",
     "output_type": "stream",
     "text": [
      "Source path =  ./Project_data/val ; batch size = 25\n",
      "Source path =  ./Project_data/train ; batch size = 25\n"
     ]
    },
    {
     "name": "stderr",
     "output_type": "stream",
     "text": [
      "/mnt/disks/user/anaconda3/lib/python3.6/site-packages/skimage/transform/_warps.py:105: UserWarning: The default mode, 'constant', will be changed to 'reflect' in skimage 0.15.\n",
      "  warn(\"The default mode, 'constant', will be changed to 'reflect' in \"\n",
      "/mnt/disks/user/anaconda3/lib/python3.6/site-packages/skimage/transform/_warps.py:110: UserWarning: Anti-aliasing will be enabled by default in skimage 0.15 to avoid aliasing artifacts when down-sampling images.\n",
      "  warn(\"Anti-aliasing will be enabled by default in skimage 0.15 to \"\n",
      "/mnt/disks/user/anaconda3/lib/python3.6/site-packages/skimage/transform/_warps.py:105: UserWarning: The default mode, 'constant', will be changed to 'reflect' in skimage 0.15.\n",
      "  warn(\"The default mode, 'constant', will be changed to 'reflect' in \"\n",
      "/mnt/disks/user/anaconda3/lib/python3.6/site-packages/skimage/transform/_warps.py:110: UserWarning: Anti-aliasing will be enabled by default in skimage 0.15 to avoid aliasing artifacts when down-sampling images.\n",
      "  warn(\"Anti-aliasing will be enabled by default in skimage 0.15 to \"\n"
     ]
    },
    {
     "name": "stdout",
     "output_type": "stream",
     "text": [
      "Epoch 1/20\n",
      "27/27 [==============================] - 326s 12s/step - loss: 1.3897 - categorical_accuracy: 0.3739 - val_loss: 1.4891 - val_categorical_accuracy: 0.4200\n",
      "\n",
      "Epoch 00001: saving model to model_init_2020-05-2414_49_42.357099/model-00001-1.39684-0.37104-1.48914-0.42000.h5\n",
      "Epoch 2/20\n",
      "27/27 [==============================] - 143s 5s/step - loss: 1.1158 - categorical_accuracy: 0.5151 - val_loss: 1.3793 - val_categorical_accuracy: 0.4900\n",
      "\n",
      "Epoch 00002: saving model to model_init_2020-05-2414_49_42.357099/model-00002-1.11397-0.51735-1.37925-0.49000.h5\n",
      "Epoch 3/20\n",
      "27/27 [==============================] - 146s 5s/step - loss: 0.9693 - categorical_accuracy: 0.6053 - val_loss: 1.4154 - val_categorical_accuracy: 0.5000\n",
      "\n",
      "Epoch 00003: saving model to model_init_2020-05-2414_49_42.357099/model-00003-0.96565-0.60784-1.41536-0.50000.h5\n",
      "Epoch 4/20\n",
      "27/27 [==============================] - 141s 5s/step - loss: 0.7832 - categorical_accuracy: 0.6921 - val_loss: 1.2882 - val_categorical_accuracy: 0.6200\n",
      "\n",
      "Epoch 00004: saving model to model_init_2020-05-2414_49_42.357099/model-00004-0.78643-0.69080-1.28825-0.62000.h5\n",
      "Epoch 5/20\n",
      "27/27 [==============================] - 145s 5s/step - loss: 0.6224 - categorical_accuracy: 0.7677 - val_loss: 1.2556 - val_categorical_accuracy: 0.5600\n",
      "\n",
      "Epoch 00005: saving model to model_init_2020-05-2414_49_42.357099/model-00005-0.62040-0.76772-1.25555-0.56000.h5\n",
      "Epoch 6/20\n",
      "27/27 [==============================] - 143s 5s/step - loss: 0.4666 - categorical_accuracy: 0.8180 - val_loss: 1.7583 - val_categorical_accuracy: 0.5400\n",
      "\n",
      "Epoch 00006: saving model to model_init_2020-05-2414_49_42.357099/model-00006-0.46724-0.81750-1.75829-0.54000.h5\n",
      "Epoch 7/20\n",
      "27/27 [==============================] - 140s 5s/step - loss: 0.3375 - categorical_accuracy: 0.8712 - val_loss: 0.9862 - val_categorical_accuracy: 0.7300\n",
      "\n",
      "Epoch 00007: saving model to model_init_2020-05-2414_49_42.357099/model-00007-0.33802-0.87029-0.98620-0.73000.h5\n",
      "Epoch 8/20\n",
      "27/27 [==============================] - 146s 5s/step - loss: 0.2566 - categorical_accuracy: 0.8994 - val_loss: 1.3798 - val_categorical_accuracy: 0.6600\n",
      "\n",
      "Epoch 00008: saving model to model_init_2020-05-2414_49_42.357099/model-00008-0.25730-0.89894-1.37976-0.66000.h5\n",
      "Epoch 9/20\n",
      "27/27 [==============================] - 136s 5s/step - loss: 0.1754 - categorical_accuracy: 0.9363 - val_loss: 1.6387 - val_categorical_accuracy: 0.6300\n",
      "\n",
      "Epoch 00009: saving model to model_init_2020-05-2414_49_42.357099/model-00009-0.17770-0.93514-1.63873-0.63000.h5\n",
      "\n",
      "Epoch 00009: ReduceLROnPlateau reducing learning rate to 0.0005000000237487257.\n",
      "Epoch 10/20\n",
      "27/27 [==============================] - 141s 5s/step - loss: 0.1240 - categorical_accuracy: 0.9529 - val_loss: 1.5575 - val_categorical_accuracy: 0.6900\n",
      "\n",
      "Epoch 00010: saving model to model_init_2020-05-2414_49_42.357099/model-00010-0.11940-0.95475-1.55749-0.69000.h5\n",
      "Epoch 11/20\n",
      "27/27 [==============================] - 142s 5s/step - loss: 0.0352 - categorical_accuracy: 0.9911 - val_loss: 1.7761 - val_categorical_accuracy: 0.6500\n",
      "\n",
      "Epoch 00011: saving model to model_init_2020-05-2414_49_42.357099/model-00011-0.03561-0.99095-1.77607-0.65000.h5\n",
      "\n",
      "Epoch 00011: ReduceLROnPlateau reducing learning rate to 0.0002500000118743628.\n",
      "Epoch 12/20\n",
      "27/27 [==============================] - 142s 5s/step - loss: 0.0369 - categorical_accuracy: 0.9956 - val_loss: 1.4907 - val_categorical_accuracy: 0.7400\n",
      "\n",
      "Epoch 00012: saving model to model_init_2020-05-2414_49_42.357099/model-00012-0.03687-0.99548-1.49066-0.74000.h5\n",
      "Epoch 13/20\n",
      "27/27 [==============================] - 140s 5s/step - loss: 0.0127 - categorical_accuracy: 0.9985 - val_loss: 1.5427 - val_categorical_accuracy: 0.7100\n",
      "\n",
      "Epoch 00013: saving model to model_init_2020-05-2414_49_42.357099/model-00013-0.01293-0.99849-1.54268-0.71000.h5\n",
      "\n",
      "Epoch 00013: ReduceLROnPlateau reducing learning rate to 0.0001250000059371814.\n",
      "Epoch 14/20\n",
      "27/27 [==============================] - 143s 5s/step - loss: 0.0116 - categorical_accuracy: 0.9985 - val_loss: 1.5139 - val_categorical_accuracy: 0.7400\n",
      "\n",
      "Epoch 00014: saving model to model_init_2020-05-2414_49_42.357099/model-00014-0.01168-0.99849-1.51390-0.74000.h5\n",
      "Epoch 15/20\n",
      "27/27 [==============================] - 142s 5s/step - loss: 0.0081 - categorical_accuracy: 1.0000 - val_loss: 1.4685 - val_categorical_accuracy: 0.7500\n",
      "\n",
      "Epoch 00015: saving model to model_init_2020-05-2414_49_42.357099/model-00015-0.00816-1.00000-1.46855-0.75000.h5\n",
      "\n",
      "Epoch 00015: ReduceLROnPlateau reducing learning rate to 6.25000029685907e-05.\n",
      "Epoch 16/20\n",
      "27/27 [==============================] - 144s 5s/step - loss: 0.0119 - categorical_accuracy: 0.9970 - val_loss: 1.4960 - val_categorical_accuracy: 0.7500\n",
      "\n",
      "Epoch 00016: saving model to model_init_2020-05-2414_49_42.357099/model-00016-0.01190-0.99698-1.49595-0.75000.h5\n",
      "Epoch 17/20\n",
      "27/27 [==============================] - 146s 5s/step - loss: 0.0046 - categorical_accuracy: 1.0000 - val_loss: 1.5188 - val_categorical_accuracy: 0.7400\n",
      "\n",
      "Epoch 00017: saving model to model_init_2020-05-2414_49_42.357099/model-00017-0.00468-1.00000-1.51880-0.74000.h5\n",
      "\n",
      "Epoch 00017: ReduceLROnPlateau reducing learning rate to 3.125000148429535e-05.\n",
      "Epoch 18/20\n",
      "27/27 [==============================] - 146s 5s/step - loss: 0.0048 - categorical_accuracy: 1.0000 - val_loss: 1.5275 - val_categorical_accuracy: 0.7400\n",
      "\n",
      "Epoch 00018: saving model to model_init_2020-05-2414_49_42.357099/model-00018-0.00477-1.00000-1.52751-0.74000.h5\n",
      "Epoch 19/20\n",
      "27/27 [==============================] - 142s 5s/step - loss: 0.0057 - categorical_accuracy: 1.0000 - val_loss: 1.5389 - val_categorical_accuracy: 0.7400\n",
      "\n",
      "Epoch 00019: saving model to model_init_2020-05-2414_49_42.357099/model-00019-0.00572-1.00000-1.53888-0.74000.h5\n",
      "\n",
      "Epoch 00019: ReduceLROnPlateau reducing learning rate to 1.5625000742147677e-05.\n",
      "Epoch 20/20\n",
      "27/27 [==============================] - 145s 5s/step - loss: 0.0063 - categorical_accuracy: 1.0000 - val_loss: 1.5408 - val_categorical_accuracy: 0.7400\n",
      "\n",
      "Epoch 00020: saving model to model_init_2020-05-2414_49_42.357099/model-00020-0.00593-1.00000-1.54085-0.74000.h5\n"
     ]
    },
    {
     "data": {
      "text/plain": [
       "<keras.callbacks.History at 0x7f874213e2e8>"
      ]
     },
     "execution_count": 14,
     "metadata": {},
     "output_type": "execute_result"
    }
   ],
   "source": [
    "model_2d.fit_generator(train_generator, steps_per_epoch=steps_per_epoch, epochs=num_epochs, verbose=1,callbacks=callbacks_list, validation_data=val_generator,validation_steps=validation_steps, class_weight=None, workers=1, initial_epoch=0,use_multiprocessing=True)"
   ]
  },
  {
   "cell_type": "code",
   "execution_count": null,
   "metadata": {},
   "outputs": [],
   "source": []
  }
 ],
 "metadata": {
  "kernelspec": {
   "display_name": "Python 3",
   "language": "python",
   "name": "python3"
  },
  "language_info": {
   "codemirror_mode": {
    "name": "ipython",
    "version": 3
   },
   "file_extension": ".py",
   "mimetype": "text/x-python",
   "name": "python",
   "nbconvert_exporter": "python",
   "pygments_lexer": "ipython3",
   "version": "3.6.8"
  }
 },
 "nbformat": 4,
 "nbformat_minor": 2
}
